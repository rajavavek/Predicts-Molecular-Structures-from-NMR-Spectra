{
  "cells": [
    {
      "cell_type": "markdown",
      "metadata": {
        "id": "view-in-github",
        "colab_type": "text"
      },
      "source": [
        "<a href=\"https://colab.research.google.com/github/rajavavek/Predicts-Molecular-Structures-from-NMR-Spectra/blob/main/NM_RGEN.ipynb\" target=\"_parent\"><img src=\"https://colab.research.google.com/assets/colab-badge.svg\" alt=\"Open In Colab\"/></a>"
      ]
    },
    {
      "cell_type": "markdown",
      "metadata": {
        "id": "hncB3lKgu66W"
      },
      "source": [
        "# 0. Import"
      ]
    },
    {
      "cell_type": "markdown",
      "metadata": {
        "id": "utY3nbDLUJUj"
      },
      "source": []
    },
    {
      "cell_type": "code",
      "execution_count": null,
      "metadata": {
        "id": "8f8EvGprUh4O"
      },
      "outputs": [],
      "source": [
        "from google.colab import drive\n",
        "drive.mount('/content/drive')"
      ]
    },
    {
      "cell_type": "code",
      "execution_count": null,
      "metadata": {
        "id": "HkZOsPmcVEx4"
      },
      "outputs": [],
      "source": [
        "import os\n",
        "dir_name = ''  # path to the folder you made starting from your google drive home directory.\n",
        "if dir_name[0] == '/': dir_name = dir_name[1:]\n",
        "if dir_name[-1] == '/': dir_name = dir_name[:-1]\n",
        "os.chdir(f'/content/drive/MyDrive/{dir_name}/')\n",
        "os.listdir(os.getcwd())  # check all the python files are in the directory."
      ]
    },
    {
      "cell_type": "code",
      "execution_count": null,
      "metadata": {
        "id": "SBvPFmg5u2By"
      },
      "outputs": [],
      "source": [
        "# colab에서 실행 시 rdkit 다운로드 필요.\n",
        "!pip install rdkit"
      ]
    },
    {
      "cell_type": "markdown",
      "metadata": {
        "id": "IhF23bfEUbkU"
      },
      "source": [
        "## 0-1. 공통"
      ]
    },
    {
      "cell_type": "code",
      "execution_count": null,
      "metadata": {
        "id": "J_HGf6lxu5OK"
      },
      "outputs": [],
      "source": [
        "# 사용 여부와 무관히 우선 다 import함\n",
        "\n",
        "import numpy as np\n",
        "import time\n",
        "import csv\n",
        "from tqdm import tqdm\n",
        "import random\n",
        "import os\n",
        "import pandas as pd\n",
        "from collections import Counter\n",
        "from datetime import datetime\n",
        "\n",
        "import torch\n",
        "import torch.nn as nn\n",
        "import torch.optim as optim\n",
        "from torch.utils.data import Dataset, DataLoader\n",
        "from torch.nn.utils.rnn import pad_sequence\n",
        "import torchsummary\n",
        "\n",
        "from sklearn import metrics\n",
        "from sklearn.model_selection import train_test_split\n",
        "from sklearn.manifold import TSNE\n",
        "\n",
        "import matplotlib.pyplot as plt\n",
        "from functools import reduce # optional\n",
        "\n",
        "from rdkit import Chem\n",
        "from rdkit import RDLogger\n",
        "# RDLogger.DisableLog('rdApp.*')\n",
        "from rdkit.Chem.Descriptors import ExactMolWt\n",
        "from rdkit.Chem.Crippen import MolLogP\n",
        "from rdkit.Chem.rdMolDescriptors import GetMorganFingerprintAsBitVect\n",
        "from rdkit.Chem import Draw, AllChem\n",
        "from rdkit.Chem import DataStructs\n",
        "from rdkit.Chem.Draw import IPythonConsole\n",
        "from rdkit.Chem.Draw import rdMolDraw2D\n",
        "from IPython.display import SVG\n",
        "# IPythonConsole.ipython_useSVG=True   #set this to False if you want PNGs instead of SVGs"
      ]
    },
    {
      "cell_type": "code",
      "execution_count": null,
      "metadata": {
        "id": "af1qBShQQeDk"
      },
      "outputs": [],
      "source": [
        "# 사전에 정의해두는 유기원소 종류\n",
        "\n",
        "all_atom_symbols = ['H','He','Li','Be','B','C','N','O','F','Ne','Na','Mg','Al','Si','P','S','Cl','Ar','K','Ca','Sc','Ti','V','Cr','Mn','Fe','Co','Ni','Cu','Zn','Ga','Ge','As','Se','Br','Kr','Rb','Sr','Y','Zr','Nb','Mo','Tc','Ru','Rh','Pd','Ag','Cd','In','Sn','Sb','Te','I','Xe','Cs','Ba','La','Ce','Pr','Nd','Pm','Sm','Eu','Gd','Tb','Dy','Ho','Er','Tm','Yb','Lu','Hf','Ta','W','Re','Os','Ir','Pt','Au','Hg','Tl','Pb','Bi','Po','At','Rn','Fr','Ra','Ac','Th','Pa','U','Np','Pu','Am','Cm','Bk','Cf','Es','Fm','Md','No','Lr','Rf','Db','Sg','Bh','Hs','Mt','Ds','Rg','Cn','Nh','Fl','Mc','Lv','Ts','Og']\n",
        "org_atom_symbols = ['C','H','O','N','F','P','S','Cl','Br','I']    # 참고 : 맥머리 유기화학 9판 25p : 자주 사용하는 원소\n",
        "inorg_atom_symbols = []\n",
        "for atom in all_atom_symbols:\n",
        "    if atom not in org_atom_symbols:\n",
        "        inorg_atom_symbols.append(atom)\n",
        "print(len(all_atom_symbols))\n",
        "print(len(inorg_atom_symbols))\n",
        "print(inorg_atom_symbols)"
      ]
    },
    {
      "cell_type": "code",
      "execution_count": null,
      "metadata": {
        "id": "mODxZKREu_m5"
      },
      "outputs": [],
      "source": [
        "os.environ[\"CUDA_VISIBLE_DEVICES\"] = \"0\"\n",
        "device = torch.device(\"cuda:0\" if torch.cuda.is_available() else \"cpu\")\n",
        "print(device)"
      ]
    },
    {
      "cell_type": "markdown",
      "metadata": {
        "id": "JD9Rr8COvEja"
      },
      "source": [
        "# 1. Define Dataset"
      ]
    },
    {
      "cell_type": "markdown",
      "metadata": {
        "id": "nnk2O-HCqrfL"
      },
      "source": [
        "## 1-0. c_to_i 정의"
      ]
    },
    {
      "cell_type": "markdown",
      "metadata": {
        "id": "P58_WN9vqv4u"
      },
      "source": [
        "c_to_i를 미리 정의."
      ]
    },
    {
      "cell_type": "code",
      "execution_count": null,
      "metadata": {
        "id": "BOtElOAgqu4t"
      },
      "outputs": [],
      "source": [
        "c_to_i = {'X': 0, 'C': 1, 'H': 2, 'O': 3, 'N': 4, 'F': 5, 'l': 6, 'B': 7, 'I': 8, 'P': 9, 'S': 10, 'c': 11, 'n': 12, 'o': 13, 'p': 14, 'r': 15, 's': 16, '#': 17, '%': 18, '(': 19, ')': 20, '*': 21, '+': 22, '-': 23, '/': 24, '0': 25, '1': 26, '2': 27, '3': 28, '4': 29, '5': 30, '6': 31, '7': 32, '8': 33, '9': 34, '=': 35, '@': 36, '[': 37, '\\\\': 38, ']': 39}\n",
        "print(c_to_i)\n",
        "print(type(c_to_i))"
      ]
    },
    {
      "cell_type": "markdown",
      "metadata": {
        "id": "PGqrnbFUPr3B"
      },
      "source": [
        "## 1-1. MolDataset Class"
      ]
    },
    {
      "cell_type": "markdown",
      "metadata": {
        "id": "_7DMGpm4Pu_e"
      },
      "source": [
        "SMILES 리스트를 입력받아 저장.\n",
        "\n",
        "Padding도 진행\n",
        "* batch 별로 길이를 맞춤 (collate)\n",
        "* batch 내에서 가장 긴 SMILES를 기준으로 나머지에 다른 문자(X)를 넣어 길이를 맞춤 (post padding)"
      ]
    },
    {
      "cell_type": "code",
      "execution_count": null,
      "metadata": {
        "id": "KtXS_2syvClN"
      },
      "outputs": [],
      "source": [
        "class MolDataset(Dataset):\n",
        "\n",
        "    def __init__(self, smi_list, L = 120, c_to_i = c_to_i):\n",
        "        super().__init__()\n",
        "        self.smi_list = smi_list\n",
        "        self.L = L      # 학습에 이용한 데이터세트의 SMILES 최대 길이.\n",
        "        self.c_to_i = c_to_i\n",
        "\n",
        "        self.vec_dim = self._get_num_char()\n",
        "\n",
        "    def __len__(self):\n",
        "        return len(self.smi_list)\n",
        "\n",
        "    def __getitem__(self, idx):\n",
        "        '''\n",
        "        return a dict of {\"input\": input, \"output\": output, \"length\", length},\n",
        "        where input is a long tensor of seq. encoded smiles,\n",
        "        output is a float tensor of corresponding logp value, and\n",
        "        length is a long tensor of \"a length of smiles\".\n",
        "        use self._encode_smi.\n",
        "        '''\n",
        "        sample = dict()\n",
        "        smi = self.smi_list[idx]\n",
        "\n",
        "        input = self._encode_smi(smi)\n",
        "        if len(input) < self.L:\n",
        "            input = np.pad(input, (0, self.L - len(input)), mode='constant', constant_values=0)\n",
        "        else:\n",
        "            input = input[:self.L]\n",
        "\n",
        "        sample = {\n",
        "                \"input\": torch.LongTensor(input),\n",
        "                \"length\": torch.LongTensor([len(smi) + 1])  # +1 due to <EOS>\n",
        "        }\n",
        "        return sample\n",
        "\n",
        "    def _encode_smi(self, smi):\n",
        "        '''\n",
        "        SMILES를 c_to_i 딕셔너리에 matching시켜 정수 배열로 만들어줌.\n",
        "        '''\n",
        "        # return np.array([self.c_to_i[c] for c in smi + 'X'])\n",
        "        return np.array([c_to_i[c] for c in smi])\n",
        "\n",
        "    def _get_num_char(self):\n",
        "        '''\n",
        "        c_to_i 딕셔너리의 길이를 return. 이는 위의 __init__에서 vector dimension으로 정의해둠.\n",
        "        '''\n",
        "        return len(getattr(self, \"c_to_i\", dict()))"
      ]
    },
    {
      "cell_type": "markdown",
      "metadata": {
        "id": "5ObBUSDPViT8"
      },
      "source": [
        "## 1-2. MolNMRDataset"
      ]
    },
    {
      "cell_type": "markdown",
      "metadata": {
        "id": "B-uH4pWWVlVU"
      },
      "source": [
        "MolDataset과 유사하나, NMR dataset을 함께 저장.\n",
        "\n",
        "또한 __getitem__ 시 분자식(mf)도 함께 출력.\n",
        "이는 길이 10의 1차원 torch Tensor, 각 항은 C, H, O, N, F, Cl, Br, I, P, S 개수를 의미."
      ]
    },
    {
      "cell_type": "code",
      "execution_count": null,
      "metadata": {
        "id": "QqIiBSHFA3rB"
      },
      "outputs": [],
      "source": [
        "class MolNMRDataset(Dataset):\n",
        "\n",
        "    def __init__(self, smi_list, spectra_list, L=120, c_to_i = c_to_i):\n",
        "        super().__init__()\n",
        "        self.smi_list = smi_list\n",
        "        self.L = L      # 학습에 이용한 데이터세트의 SMILES 최대 길이.\n",
        "        self.c_to_i = c_to_i\n",
        "\n",
        "        self.vec_dim = self._get_num_char()\n",
        "\n",
        "        self.spectra_list = spectra_list\n",
        "\n",
        "    def __len__(self):\n",
        "        return len(self.smi_list)\n",
        "\n",
        "    def __getitem__(self, idx):\n",
        "        '''\n",
        "        return a dict of {\"input\": input, \"output\": output, \"length\", length},\n",
        "        where input is a long tensor of seq. encoded smiles,\n",
        "        output is a float tensor of corresponding logp value, and\n",
        "        length is a long tensor of \"a length of smiles\".\n",
        "        use self._encode_smi.\n",
        "        '''\n",
        "        sample = dict()\n",
        "        smi = self.smi_list[idx]\n",
        "\n",
        "        input = self._encode_smi(smi)\n",
        "        if len(input) < self.L:\n",
        "            input = np.pad(input, (0, self.L - len(input)), mode='constant', constant_values=0)\n",
        "        else:\n",
        "            input = input[:self.L]\n",
        "\n",
        "        mf = self._count_elements_in_smiles(smi)\n",
        "\n",
        "        spectra = self.spectra_list[idx]\n",
        "\n",
        "        sample = {\n",
        "                \"input\": torch.LongTensor(input),\n",
        "                \"length\": torch.LongTensor([len(smi) + 1]),  # +1 due to <EOS>\n",
        "                \"spectra\": spectra,\n",
        "                \"mf\": mf\n",
        "        }\n",
        "        return sample\n",
        "\n",
        "    def _encode_smi(self, smi):\n",
        "        return np.array([c_to_i[c] for c in smi])\n",
        "\n",
        "    def _get_num_char(self):\n",
        "        return len(getattr(self, \"c_to_i\", dict()))\n",
        "\n",
        "    def _count_elements_in_smiles(self, smiles):\n",
        "        # SMILES 문자열을 rdkit의 분자 객체로 변환\n",
        "        mol = Chem.MolFromSmiles(smiles)\n",
        "\n",
        "        # 분자 객체에서 원자들을 추출하고 개수를 세기\n",
        "        atom_counts = Counter()\n",
        "\n",
        "        if mol:\n",
        "            # onlyExplicit=False로 설정하여 암시적인 수소를 포함\n",
        "            mol = Chem.AddHs(mol, addCoords=True)\n",
        "\n",
        "            for atom in mol.GetAtoms():\n",
        "                symbol = atom.GetSymbol()\n",
        "                atom_counts[symbol] += 1\n",
        "\n",
        "        # Molecular Formula tensor를 반환. [C,H,O,N,F,Cl,Br,I,P,S] 개수의 torch tensor 반환.\n",
        "        MF = torch.Tensor([0,0,0,0,0,0,0,0,0,0])\n",
        "        MF[0] = atom_counts['C']\n",
        "        MF[1] = atom_counts['H']\n",
        "        MF[2] = atom_counts['O']\n",
        "        MF[3] = atom_counts['N']\n",
        "        MF[4] = atom_counts['F']\n",
        "        MF[5] = atom_counts['Cl']\n",
        "        MF[6] = atom_counts['Br']\n",
        "        MF[7] = atom_counts['I']\n",
        "        MF[8] = atom_counts['P']\n",
        "        MF[9] = atom_counts['S']\n",
        "        MF = MF.float()\n",
        "\n",
        "        return MF"
      ]
    },
    {
      "cell_type": "markdown",
      "metadata": {
        "id": "zOpKX9M1XCiY"
      },
      "source": [
        "## 1-3. random_splitter"
      ]
    },
    {
      "cell_type": "markdown",
      "metadata": {
        "id": "ELEqaB4-XGfe"
      },
      "source": [
        "Dataset을 train set, validation set, test set으로 나누어줌."
      ]
    },
    {
      "cell_type": "code",
      "execution_count": null,
      "metadata": {
        "id": "p0V392CHHoI5"
      },
      "outputs": [],
      "source": [
        "def random_splitter(dataset, train_ratio, validation_ratio, test_ratio):\n",
        "    import random\n",
        "    import copy\n",
        "    assert train_ratio + validation_ratio + test_ratio == 1.0\n",
        "    N = len(dataset)\n",
        "    all_idx = list(range(N))\n",
        "    random.shuffle(all_idx)\n",
        "\n",
        "    train_idx = all_idx[:int(train_ratio * N)]\n",
        "    valid_idx = all_idx[int(train_ratio * N):int(validation_ratio * N) + int(train_ratio * N)]\n",
        "    test_idx = all_idx[int(validation_ratio * N) + int(train_ratio * N):]\n",
        "    train_dataset = copy.deepcopy(dataset)\n",
        "    valid_dataset = copy.deepcopy(dataset)\n",
        "    test_dataset  = copy.deepcopy(dataset)\n",
        "    train_dataset.smi_list = [dataset.smi_list[i] for i in train_idx]\n",
        "    valid_dataset.smi_list = [dataset.smi_list[i] for i in valid_idx]\n",
        "    test_dataset.smi_list =  [dataset.smi_list[i] for i in  test_idx]\n",
        "    return train_dataset, valid_dataset, test_dataset"
      ]
    },
    {
      "cell_type": "markdown",
      "metadata": {
        "id": "bQlF1aiFXLd1"
      },
      "source": [
        "## 1-4. sample_collate"
      ]
    },
    {
      "cell_type": "markdown",
      "metadata": {
        "id": "-izgsCsuXVE9"
      },
      "source": [
        "collate : 샘플들을 모아서 지정된 길이로 정하는 함수.\n",
        "\n",
        "실제 data loader에는 collate parameter가 내장되어있음. 설정하지 않은 경우는 그냥 torch tensor로.\n",
        "\n",
        "SMILES학습과 같이 길이를 맞추어야 하는 경우에는 collate 함수를 정의 해 주어야 함."
      ]
    },
    {
      "cell_type": "markdown",
      "metadata": {
        "id": "FZYuwbu08ygw"
      },
      "source": [
        "위 Dataset 정의에서 길이를 다 L (=120)으로 맞추었으므로 굳이 필요 없음."
      ]
    },
    {
      "cell_type": "code",
      "execution_count": null,
      "metadata": {
        "id": "PVjriB96HqY4"
      },
      "outputs": [],
      "source": [
        "\"\"\"\n",
        "def sample_collate_fn(samples):\n",
        "    '''\n",
        "    Dataloader will make a list of samples with a len(samples) = batch_size.\n",
        "    Collate function should pad all the tensors in every sample at maximum size,\n",
        "    and stack them on a batch dimension.\n",
        "\n",
        "    Example)\n",
        "    if four tensors of shape (3, 7), (2, 7), (6, 7), (4, 7) is given,\n",
        "    collated tensor will have a shape of (4, 6, 7) where 4 is a batch size.\n",
        "    '''\n",
        "    inputs = pad_sequence([sample[\"input\"] for sample in samples], batch_first=True, padding_value=0)\n",
        "    lengths = torch.cat([sample[\"length\"] for sample in samples], dim=0)\n",
        "\n",
        "    sample_batch = {\n",
        "            \"input\": inputs,\n",
        "            \"length\": lengths,\n",
        "    }\n",
        "    return sample_batch\n",
        "\"\"\""
      ]
    },
    {
      "cell_type": "markdown",
      "metadata": {
        "id": "ywpG5cBYnhia"
      },
      "source": [
        "## 1-5. NMR Data 처리 함수 정의"
      ]
    },
    {
      "cell_type": "markdown",
      "metadata": {
        "id": "SqmoF3Sfi1kv"
      },
      "source": [
        "SMILES data 처리는 이와 유사하게, 그러나 별도 파일에서 진행하여 SMILES들이 개행 기호(\\n)으로 구분되어 입력된 txt파일로 만들어 둠.\n",
        "\n",
        "이 코드 이용을 위해서는 peak list를 csv파일로 변환하고 파일명은 np mrd code로 된 상태로 미리 저장 해 두어야 함. 또한 np mrd 코드와 그에 따른 smiles 정보가 저장된 smiles.csv 파일도 있어야 함.(이는 np-mrd 홈페이지에서 다운로드 가능)\n",
        "\n",
        "https://np-mrd.org/downloads"
      ]
    },
    {
      "cell_type": "code",
      "execution_count": null,
      "metadata": {
        "id": "B1wmFiAomOSZ"
      },
      "outputs": [],
      "source": [
        "def pladdress_to_spectra(csv_file_path):\n",
        "    \"\"\"\n",
        "    peak list가 담긴 csv파일이 있는 경로를 입력받아 1300길이의 torch.Tensor로 출력\n",
        "    \"\"\"\n",
        "    peak_list = pd.read_csv(csv_file_path)\n",
        "    spectra = peaklist_to_spectra(peak_list)\n",
        "    return spectra\n",
        "\n",
        "def peaklist_to_spectra(peak_list):\n",
        "    \"\"\"\n",
        "    pandas dataframe (X, Y)를 받아 이를 길이 1300의 torch.Tensor의 형태로 반환.\n",
        "    이때 pandas dataframe은 pd.read_csv(csv_file_path) 으로 읽어온 형태.\n",
        "    \"\"\"\n",
        "    spectra = torch.zeros(1300)\n",
        "    for i in range(len(peak_list)):\n",
        "        row = peak_list.iloc[i]\n",
        "        spectra[int(row[0]*100-1)] = row[1]\n",
        "    return spectra"
      ]
    },
    {
      "cell_type": "code",
      "execution_count": null,
      "metadata": {
        "id": "V1A6bjnZK5_8"
      },
      "outputs": [],
      "source": [
        "def get_smi_spec_list(SMILES_csv_file_path, peaklist_folder_path, MAXLEN = 120, onlyorg = True):\n",
        "    \"\"\"\n",
        "    NP-MRD의 smiles.csv 파일 경로와, peaklist가 담긴 csv들이 있는 폴더의 경로를 입력받아,\n",
        "    MolNMRDataset을 만들기 위한 smi_list와 spectra_list를 출력하는 함수\n",
        "    MAXLEN : screen할 SMILES의 최대 길이.   default : 120\n",
        "    onlyorg : 유기 분자만 포함할지 여부.    default : True\n",
        "        이를 사용할 경우, inorg_atom 리스트가 사전에 정의되어 있어야 함.\n",
        "\n",
        "    주의 : peaklist가 들어있는 폴더 안에는 peaklist 파일들만 있어야 함.\n",
        "    \"\"\"\n",
        "    pd.set_option('display.max_colwidth', None)\n",
        "\n",
        "    smi_df = pd.read_csv(SMILES_csv_file_path)\n",
        "    smi_list = []\n",
        "    spectra_list = []\n",
        "\n",
        "    peaklist_list = os.listdir(peaklist_folder_path)\n",
        "\n",
        "    for file_name in tqdm(peaklist_list, desc='processing peaklist files', unit='file'):\n",
        "        # 해당 파일의 SMILES를 smi_list에 저장.\n",
        "        np_mrd_id = file_name.split('_')[0]     # 파일 명이 NPMRDID_~~~.csv 형태\n",
        "        smiles = smi_df[smi_df['NP_MRD_ID'] == np_mrd_id]['Smiles'].to_string(index=False)     # 해당 NP_MRD_ID에 해당하는 SMILES를 가져오기\n",
        "\n",
        "        if smiles == 'Series([], )':        # smiles 파일 안에 해당하는 NP_MRD_ID가 없으면 통과.\n",
        "            continue\n",
        "\n",
        "        check = True\n",
        "        if len(smiles) > MAXLEN:        # SMILES가 설정한 최대 길이 이상인 경우, 제외.\n",
        "            check = False\n",
        "        elif '.' in smiles:             # 여러 분자가 한 smiles에 들어간 경우 제외.\n",
        "            check = False\n",
        "        elif '[2H]' in smiles:          # D가 smiles에 들어간 경우 제외.\n",
        "            check = False\n",
        "        elif onlyorg:                   # 유기분자만 포함하려는 경우.\n",
        "            for inorg_atom in inorg_atom_symbols:\n",
        "                if inorg_atom in smiles:\n",
        "                    if inorg_atom == 'B':   # Br에도 B가 들어가 있으므로, 이를 확인하여 Br이 있는 것이 제거되지 않도록.\n",
        "                        count_B = smiles.count('B')\n",
        "                        count_Br = smiles.count('Br')\n",
        "                        if count_B != count_Br:\n",
        "                            check = False\n",
        "                    else:\n",
        "                        check = False\n",
        "            if 'C' not in smiles:\n",
        "                check = False\n",
        "            elif smiles.count('C') == smiles.count('Cl'):   # Cl에도 C가 들어가므로.\n",
        "                check = False\n",
        "\n",
        "        if check:   # 위의 조건들을 통과 한 경우에만 list에 append\n",
        "            can_smi = Chem.MolToSmiles(Chem.MolFromSmiles(smiles), canonical = True)    # canonical smiles로 바꾸어 저장.\n",
        "            smi_list.append(can_smi)\n",
        "            # 해당 파일의 peaklist를 spectra 벡터로 바꾸어 spectra_list에 저장.\n",
        "            file_path = os.path.join(peaklist_folder_path, file_name)\n",
        "            spectra_list.append(pladdress_to_spectra(file_path))\n",
        "\n",
        "    return smi_list, spectra_list"
      ]
    },
    {
      "cell_type": "markdown",
      "metadata": {
        "id": "MsexaOpA-fUa"
      },
      "source": [
        "## 1-6. nmr smi list, spectra list"
      ]
    },
    {
      "cell_type": "markdown",
      "metadata": {
        "id": "6CQTU2vT_OM8"
      },
      "source": [
        "리스트를 얻고 저장, 불러오기 하는 코드들. 1-5에서 얻은 정보들을 파일의 형태로 저장하기 위함.\n",
        "\n",
        "한번 파일을 얻었으면 실행하지 않아도 됨. (nmr_smi_list_120.txt, spectra_list_120.npy)"
      ]
    },
    {
      "cell_type": "code",
      "execution_count": null,
      "metadata": {
        "id": "g4zibfUv-lM4"
      },
      "outputs": [],
      "source": [
        "# NMR smiles.csv 파일 경로와, peak list 폴더 경로를 입력받아 조건에 맞는 smi_list와 spectra_list 반환\n",
        "\n",
        "smi_csv_path = 'C:/Users/JeongHeon Seok/Desktop/NMR/smiles.csv'\n",
        "pl_folder_path = 'C:/Users/JeongHeon Seok/Desktop/NMR/jcamp들/jcamp_oned_1H_peaktable_organized_3'\n",
        "smi_list, spectra_list = get_smi_spec_list(smi_csv_path, pl_folder_path)"
      ]
    },
    {
      "cell_type": "code",
      "execution_count": null,
      "metadata": {
        "id": "17HSyJRn-mt5"
      },
      "outputs": [],
      "source": [
        "# 만들어진 smi_list와 spectra_list를 파일로 저장\n",
        "# smi_list는 smi들을 \\n으로 분리하여 파일에 텍스트 형식으로 저장\n",
        "with open('./nmr_smi_list_120.txt', 'w') as file:\n",
        "    for smi in smi_list:\n",
        "        file.write(smi + '\\n')\n",
        "# torch.Tensor를 numpy로 바꾸고, 이를 npy 파일로 저장\n",
        "np_sl = [tensor.numpy() for tensor in spectra_list]\n",
        "np.save('./spectra_list_120.npy', np_sl)"
      ]
    },
    {
      "cell_type": "markdown",
      "metadata": {
        "id": "VdVZ8YNjb1EI"
      },
      "source": [
        "이를 통해 9990개의 데이터를 얻을 수 있음."
      ]
    },
    {
      "cell_type": "code",
      "execution_count": null,
      "metadata": {
        "id": "RhMNXTwE_aWG"
      },
      "outputs": [],
      "source": [
        "\"\"\"\n",
        "# 파일에서 리스트 읽어오기\n",
        "loaded_list = []\n",
        "\n",
        "with open('./nmr_smi_list_120.txt', 'r') as file:\n",
        "    for line in file:\n",
        "        loaded_list.append(int(line.strip()))\n",
        "\n",
        "print(loaded_list)\n",
        "\"\"\""
      ]
    },
    {
      "cell_type": "code",
      "execution_count": null,
      "metadata": {
        "id": "FCjLK7W3_LJv"
      },
      "outputs": [],
      "source": [
        "\"\"\"\n",
        "# 파일에서 NumPy 배열 리스트 읽어오기\n",
        "loaded_numpy_list = np.load('./spectra_list_120.npy', allow_pickle=True)\n",
        "\n",
        "# 각 NumPy 배열을 다시 PyTorch Tensor로 변환하여 리스트에 저장\n",
        "loaded_tensor_list = [torch.from_numpy(arr) for arr in loaded_numpy_list]\n",
        "\n",
        "print(len(loaded_tensor_list))\n",
        "\"\"\""
      ]
    },
    {
      "cell_type": "markdown",
      "metadata": {
        "id": "QxgJWquYH2I1"
      },
      "source": [
        "# 2. Define Model"
      ]
    },
    {
      "cell_type": "markdown",
      "metadata": {
        "id": "OzcyZLj9J7ys"
      },
      "source": [
        "총 3개의 모델로 나누어 학습 진행. SMILES, 1H NMR, 분자식 정보를 학습에 이용\n",
        "(모델 3개를 3종류의 학습 과정을 통해 학습)"
      ]
    },
    {
      "cell_type": "markdown",
      "metadata": {
        "id": "iLedo7MOIcLz"
      },
      "source": [
        "## 2-1. Model1 : (canonical)SMILES + 분자식(condition) -> z    (NMR-TS의 SMILES 학습 모델 참조)\n"
      ]
    },
    {
      "cell_type": "markdown",
      "metadata": {
        "id": "rg8xRtASMHMN"
      },
      "source": [
        "* 분자식을 condition으로, conditional GRU 이용"
      ]
    },
    {
      "cell_type": "markdown",
      "metadata": {
        "id": "DMtyUOrr8JNC"
      },
      "source": [
        "![image.png](data:image/png;base64,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)"
      ]
    },
    {
      "cell_type": "markdown",
      "metadata": {
        "id": "MF0mjqPIS3Zz"
      },
      "source": [
        "Embedding : 일종의 컴퓨터용 단어 사전.\n",
        "\n",
        "sequence를 모두 정수로 인코딩. 정수 벡터를 dense vector(embedding bector)로 mapping. 이는 NN 학습과 동일한 과정으로 학습.\n",
        "\n",
        "torch.nn.Embedding(num_embedding, embedding_dim)\n",
        "* num_embedding : 임베딩한 단어의 개수 (단어 집합의 크기(n_char))\n",
        "* embedding_dim : 사용자가 직접 정해주는 hyper parameter. 각 embedding vector 크기(n_hidden)\n",
        "\n",
        "+) nn.GRU에는 자동으로 tanh가 포함되어 있음."
      ]
    },
    {
      "cell_type": "code",
      "execution_count": null,
      "metadata": {
        "id": "OFgIjgJGJG8R"
      },
      "outputs": [],
      "source": [
        "class Model1(nn.Module):\n",
        "    def __init__(self, n_char, n_hidden, n_rnn_layer = 1, dropout_prob = 0.2):\n",
        "        \"\"\"\n",
        "        SMILES Encoder를 정의하는 부분.\n",
        "        n_char : character 개수\n",
        "        n_hidden : embedding된 이후 데이터 크기         # Hyper parameter\n",
        "        n_rnn_layer : rnn layer 개수\n",
        "        dropout_prob : dropout layer의 확률\n",
        "        \"\"\"\n",
        "        super().__init__()\n",
        "\n",
        "        self.n_char = n_char\n",
        "        self.n_hidden = n_hidden\n",
        "        self.n_rnn_layer = n_rnn_layer\n",
        "        self.dropout_prob = dropout_prob\n",
        "\n",
        "        \"\"\"\n",
        "        self.sos = nn.Parameter(torch.ones(1, 1, n_hidden))     # Start Of Sequence(SOS) 토큰\n",
        "        self.sos.requires_grad = False\n",
        "        \"\"\"\n",
        "\n",
        "        self.embedding = nn.Embedding(n_char, n_hidden)\n",
        "        self.gru = nn.GRU(input_size = n_hidden, hidden_size = n_hidden, num_layers = n_rnn_layer, batch_first = True)\n",
        "        self.drop = nn.Dropout(p = dropout_prob)\n",
        "\n",
        "        # self.loss_fn = nn.CrossEntropyLoss(reduction=\"mean\")\n",
        "\n",
        "    def forward(self, x, length):\n",
        "        \"\"\"\n",
        "        x (torch.Tensor): [B, L], B : batch size, L : 문자열 길이\n",
        "\n",
        "        1. self.embedding을 이용하여 x를 hidden dimension으로 embed.\n",
        "            x[B L] -> h[B L F]\n",
        "        2. embed 된 데이터는 self.gru를 통과\n",
        "            h[B L F] -> enc[B L F] -> z[B F]\n",
        "        3. 이후, dropout 진행\n",
        "            enc[B L F] -> d[B L F]\n",
        "        4. 최종적으로 latent vector z 반환\n",
        "            d[B L F] -> z[B F]\n",
        "        \"\"\"\n",
        "        B = x.shape[0] # batch size\n",
        "        L = x.shape[1] # 문자열 길이\n",
        "\n",
        "        # 1. Embedding x[B L] -> h[B L F]\n",
        "        h = self.embedding(x) # [B L F]\n",
        "\n",
        "        # 2. Encoder h[B L F] -> enc[B L F]\n",
        "        enc, _ = self.gru(h) # [B L F]\n",
        "\n",
        "        # 3. enc[B L F] -> d[B L F]\n",
        "        d = self.drop(enc)\n",
        "\n",
        "        # 4. d[B L F] -> z[B L*F]\n",
        "        # 이 단계에서 마지막 dimension의 가장 끝 정보만 latent vector로 이용할 수도 있고\n",
        "        # L*F 길이의 벡터를 linear layer를 통과시켜 차원을 축소시켜 latent vector로 이용할 수도 있다.\n",
        "        z = d.contiguous().view(B, L*self.n_hidden)\n",
        "\n",
        "        return z"
      ]
    },
    {
      "cell_type": "markdown",
      "metadata": {
        "id": "uA73xUurIoC4"
      },
      "source": [
        "## 2-2. Model2 : NMR spectra+ 분자식(condition) -> z"
      ]
    },
    {
      "cell_type": "markdown",
      "metadata": {
        "id": "fMfcCuChMKZ-"
      },
      "source": [
        "* 입력 크기는 1300. (ppm 0.01~13.00까지. $(ppm)\\times100-1=(index)$)\n",
        "* NMR+분자식을 DNN, CNN에 통과시킨 후, 각각의 결과와 분자식을 concat하여 DNN을 통과\n",
        "* CNN 세부 정보\n",
        "    * in_channels = 1\n",
        "    * out_channels : hyper parameter 설정. 대략 10~20 정도. multiplicity를 이해하길 기대\n",
        "    * kernel_size : hyper parameter 설정. 49로 설정 계획중. 갈라질 때 ppm의 범위는 대략 0.5 정도.\n",
        "    * stride = 1\n",
        "    * padding = 24 ($(kernel size - 1)/2$)\n",
        "    * 나머지는 default값 이용.\n",
        "    * 이러면 input vector : [batch_size, 1, 1300], outvector : [batch_size, out_channels, 1300]\n",
        "* DNN 세부 정보\n",
        "    *"
      ]
    },
    {
      "cell_type": "markdown",
      "metadata": {
        "id": "8fUbJBs_7b0B"
      },
      "source": [
        "![image.png](data:image/png;base64,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)"
      ]
    },
    {
      "cell_type": "code",
      "execution_count": null,
      "metadata": {
        "id": "4T16p642Hu9R"
      },
      "outputs": [],
      "source": [
        "class Model2(nn.Module):\n",
        "    def __init__(self, hid_dim_2, n_hidden, in_channels = 1, out_channels = 15, kernel_size = 49, stride = 1, n_linear = 4, L = 120):\n",
        "        \"\"\"\n",
        "        NMR spectra Encoder를 정의하는 부분\n",
        "        in_channels : CNN의 input channel 개수. 스펙트럼 하나만 쓰기 때문에 1\n",
        "        out_channels : Kernel 개수. 10~20 정도로 설정, multiplicity에 대응.\n",
        "        kernel_size : 갈라짐 ppm의 범위가 대략 0.5정도이므로 49.\n",
        "        stride : stride 개수. 기본값 1\n",
        "        n_linear : DNN에서 linear layer개수\n",
        "        hid_dim_2 : DNN에서 hidden dimension                                      # Hyper parameter\n",
        "        n_hidden : DNN의 out_dim. 이는 Model1의 n_hidden과 같아야 함.           # Hyper parameter\n",
        "        L : 문자열 길이. (x : [B, L])\n",
        "        \"\"\"\n",
        "        super().__init__()\n",
        "        self.in_channels = in_channels\n",
        "        self.out_channels = out_channels\n",
        "        self.kernel_size = kernel_size\n",
        "        self.stride = stride\n",
        "        self.padding = int((kernel_size-1)/2)\n",
        "        self.n_linear = n_linear\n",
        "        self.in_dim = int(((1300-self.kernel_size+2*self.padding+1)/self.stride)*self.out_channels + 10)    # 디폴트 값인 경우, 1300*15 + 10\n",
        "        self.hid_dim = hid_dim_2\n",
        "        self.out_dim = L * n_hidden  # 이는 Model1에서 설정한 n_hidden과 같아야 함.\n",
        "\n",
        "        self.cnn = nn.Conv1d(in_channels = self.in_channels, out_channels = self.out_channels, kernel_size = self.kernel_size, stride = self.stride, padding = self.padding)\n",
        "\n",
        "        layers = [nn.Linear(self.in_dim, self.hid_dim), nn.ReLU()]\n",
        "        for _ in range(self.n_linear - 2):\n",
        "            layers.append(nn.Linear(self.hid_dim, self.hid_dim))\n",
        "            layers.append(nn.ReLU())\n",
        "        layers.append(nn.Linear(self.hid_dim, self.out_dim))\n",
        "\n",
        "        self.dnn = nn.Sequential(*layers)\n",
        "\n",
        "    def forward(self, spectra, mf):\n",
        "        \"\"\"\n",
        "        spectra : 1300 길이의 torch.Tensor\n",
        "        mf : 10 길이의 torch.Tensor\n",
        "\n",
        "        1. 스펙트럼 정보를 CNN에 통과.\n",
        "            [B, 1300] -> [B, 1, 1300] -> [B, kernel, 1300]\n",
        "        2. CNN을 통과한 벡터들을 모두 concat.\n",
        "            [B, kernel, 1300] -> [B, kernel*1300]\n",
        "        3. 이와 분자식 정보를 concat\n",
        "            [B, kernel*1300] + [B, 10] -> [B, kernel*1300 + 10]\n",
        "        4. 이를 DNN에 통과시켜 latent vector를 얻음.\n",
        "            [B, kernel*1300 + 10] -> [B, out_dim]\n",
        "        \"\"\"\n",
        "        B = spectra.shape[0] # batch size\n",
        "\n",
        "        # 1. CNN 통과\n",
        "        spectra = spectra.float()\n",
        "        spectra_ch1 = spectra.view(spectra.shape[0], 1, spectra.shape[1])\n",
        "        c = self.cnn(spectra_ch1)\n",
        "\n",
        "        # 2. CNN 통과한 kernel 개수의 벡터들을 모두 concat.\n",
        "        c_concat = c.view(B, -1)\n",
        "\n",
        "        # 3. 이와 분자식 정보를 concat\n",
        "        cmf = torch.cat((c_concat, mf), dim=1)\n",
        "\n",
        "        # 4. 이를 DNN에 통과시켜 z.\n",
        "        z = self.dnn(cmf)\n",
        "\n",
        "        return z"
      ]
    },
    {
      "cell_type": "markdown",
      "metadata": {
        "id": "fJgfd8BBJIzJ"
      },
      "source": [
        "## 2-3. Model3 : z+ 분자식(condition) -> SMILES    (NMR-TS의 SMILES 학습 모델 참조)"
      ]
    },
    {
      "cell_type": "markdown",
      "metadata": {
        "id": "lUam_Dz28a82"
      },
      "source": [
        "![image.png](data:image/png;base64,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)"
      ]
    },
    {
      "cell_type": "code",
      "execution_count": null,
      "metadata": {
        "id": "YGIuGjEYHvIm"
      },
      "outputs": [],
      "source": [
        "class Model3(nn.Module):\n",
        "    def __init__(self, n_char, n_hidden, hid_dim_3, n_rnn_layer = 1, dropout_prob = 0.2, L = 120):\n",
        "        \"\"\"\n",
        "        SMILES Decoder를 정의하는 부분.\n",
        "        n_char : character 개수\n",
        "        n_hidden : embedding된 이후 데이터 크기         # Hyper parameter\n",
        "        hid_dim_3 : linear layer의 hidden dimension     # Hyper parameter. 수업 예제에서는\n",
        "        n_rnn_layer : rnn layer 개수\n",
        "        dropout_prob : dropout layer의 확률\n",
        "        \"\"\"\n",
        "        super().__init__()\n",
        "\n",
        "        self.n_char = n_char\n",
        "        self.n_hidden = n_hidden\n",
        "        self.hid_dim = hid_dim_3\n",
        "        self.n_rnn_layer = n_rnn_layer\n",
        "        self.dropout_prob = dropout_prob\n",
        "        self.L = L\n",
        "\n",
        "        \"\"\"\n",
        "        self.sos = nn.Parameter(torch.ones(1, 1, n_hidden))\n",
        "        self.sos.requires_grad = False\n",
        "        \"\"\"\n",
        "\n",
        "        self.gru = nn.GRU(input_size = self.n_hidden, hidden_size = self.hid_dim, num_layers = self.n_rnn_layer, batch_first = True)\n",
        "        self.drop = nn.Dropout(p = self.dropout_prob)\n",
        "        self.fc_layer = nn.Linear(self.hid_dim, self.n_char)\n",
        "\n",
        "        # self.loss_fn = nn.CrossEntropyLoss(reduction=\"mean\")\n",
        "\n",
        "    def forward(self, z):\n",
        "        \"\"\"\n",
        "        1. z를 GRU에 통과\n",
        "            z(정의한 크기에 따라 다름) -> [B, L, hid_dim]\n",
        "        2.\n",
        "        \"\"\"\n",
        "        B = z.shape[0] # batch size\n",
        "\n",
        "        # 0. [B, L*F] -> [B, L, F]\n",
        "        # 이는 latent vector 차원 처리에 따라 달라질 수 있음.\n",
        "        z = z.view(B, self.L, self.n_hidden)\n",
        "\n",
        "        # 1. GRU    [B, L, F] -> [B, L, hid_dim]\n",
        "        dec, _ = self.gru(z)\n",
        "\n",
        "        # 2. Dropout\n",
        "        d = self.drop(dec)\n",
        "\n",
        "        # 3. Predict the probability of character d[B L hid_dim] -> dec_final[B L N_CHAR]\n",
        "        dec_final = self.fc_layer(d) # [B L N_CHAR]\n",
        "\n",
        "        # losses = torch.stack([self.loss_fn(dec_final[i, :length[i], :], x[i, :length[i]]) / length[i] for i in range(B)], dim=0) # length due to <SOS>\n",
        "\n",
        "        return dec_final"
      ]
    },
    {
      "cell_type": "markdown",
      "metadata": {
        "id": "rRBnN2ZsUKMs"
      },
      "source": [
        "# 3. Hyperparameter Settings"
      ]
    },
    {
      "cell_type": "code",
      "execution_count": null,
      "metadata": {
        "id": "v3vJHZfEUNaG"
      },
      "outputs": [],
      "source": [
        "# 각 학습 step 별 Epoch\n",
        "EPOCH_0 = 50\n",
        "EPOCH_1 = 50\n",
        "EPOCH_2 = 50"
      ]
    },
    {
      "cell_type": "code",
      "execution_count": null,
      "metadata": {
        "id": "MH7n6L90VInO"
      },
      "outputs": [],
      "source": [
        "# Learning Rate\n",
        "LR_0 = 5e-6\n",
        "LR_1 = 5e-6\n",
        "LR_2 = 5e-6\n",
        "\n",
        "# weight decay\n",
        "# weight_decay = 0.01"
      ]
    },
    {
      "cell_type": "code",
      "execution_count": null,
      "metadata": {
        "id": "dRdeRt7OVQgK"
      },
      "outputs": [],
      "source": [
        "# model parameter\n",
        "N_HIDDEN = 256\n",
        "N_RNN_LAYER = 1\n",
        "HID_DIM_2 = 5000\n",
        "HID_DIM_3 = 256\n",
        "\n",
        "BATCH_SIZE = 16\n",
        "L = 120"
      ]
    },
    {
      "cell_type": "code",
      "execution_count": null,
      "metadata": {
        "id": "9fdx-8tzZHmz"
      },
      "outputs": [],
      "source": [
        "# train, validation, test ratio\n",
        "train_ratio = 0.8\n",
        "valid_ratio = 0.1\n",
        "test_ratio = 1 - train_ratio - valid_ratio"
      ]
    },
    {
      "cell_type": "markdown",
      "metadata": {
        "id": "66GESprtUNEy"
      },
      "source": [
        "# 4. Build the Dataset"
      ]
    },
    {
      "cell_type": "code",
      "execution_count": null,
      "metadata": {
        "id": "m-cuvXemXlHt"
      },
      "outputs": [],
      "source": [
        "# Data dierection\n",
        "SMILES_DIR = \"./org_SMILES_120_canonical_100000.txt\"\n",
        "nmr_smi_list_txt = './nmr_smi_list_120.txt'\n",
        "nmr_spectra_list_npy = './spectra_list_120.npy'"
      ]
    },
    {
      "cell_type": "markdown",
      "metadata": {
        "id": "uI6qhVnDp41U"
      },
      "source": [
        "## 4-1. SMILES dataset"
      ]
    },
    {
      "cell_type": "code",
      "execution_count": null,
      "metadata": {
        "id": "zdHjoM6AYZoC"
      },
      "outputs": [],
      "source": [
        "# SMILES 리스트로부터 smi_list를 얻는 과정 정의 필요\n",
        "with open(SMILES_DIR, 'r') as f:\n",
        "    smi_list = [l.strip() for l in f.readlines()]\n",
        "\n",
        "smi_dataset = MolDataset(smi_list)\n",
        "\n",
        "# AutoEncoder 학습에 사용할 데이터는 test 불필요.\n",
        "train_smi_dataset, valid_smi_dataset, _ = random_splitter(smi_dataset, train_ratio+valid_ratio, test_ratio, 0)\n",
        "\n",
        "N_CHAR = smi_dataset._get_num_char()"
      ]
    },
    {
      "cell_type": "code",
      "execution_count": null,
      "metadata": {
        "id": "dKYYEWqSq_lj"
      },
      "outputs": [],
      "source": [
        "print(N_CHAR)\n",
        "print(len(train_smi_dataset), len(valid_smi_dataset))"
      ]
    },
    {
      "cell_type": "markdown",
      "metadata": {
        "id": "3H4eD4t9p9mx"
      },
      "source": [
        "## 4-2. NMR dataset"
      ]
    },
    {
      "cell_type": "code",
      "execution_count": null,
      "metadata": {
        "id": "aXu4BwLqWIDH"
      },
      "outputs": [],
      "source": [
        "nmr_smi_list = []\n",
        "with open(nmr_smi_list_txt, 'r') as file:\n",
        "    for line in file:\n",
        "        nmr_smi_list.append(line.strip())\n",
        "\n",
        "nmr_spectra_numpy_list = np.load(nmr_spectra_list_npy, allow_pickle=True)\n",
        "nmr_spectra_tensor_list = [torch.from_numpy(arr) for arr in nmr_spectra_numpy_list]"
      ]
    },
    {
      "cell_type": "code",
      "execution_count": null,
      "metadata": {
        "id": "GMvdVYMbqTJB"
      },
      "outputs": [],
      "source": [
        "nmr_dataset = MolNMRDataset(nmr_smi_list, nmr_spectra_tensor_list)\n",
        "\n",
        "train_nmr_dataset, valid_nmr_dataset, test_nmr_dataset = random_splitter(nmr_dataset, train_ratio, valid_ratio, test_ratio)"
      ]
    },
    {
      "cell_type": "code",
      "execution_count": null,
      "metadata": {
        "id": "w4iCbu2ztJ6U"
      },
      "outputs": [],
      "source": [
        "N_CHAR = nmr_dataset._get_num_char()\n",
        "print(N_CHAR)\n",
        "print(len(train_nmr_dataset), len(valid_nmr_dataset), len(test_nmr_dataset))"
      ]
    },
    {
      "cell_type": "markdown",
      "metadata": {
        "id": "wTPqyIshYegp"
      },
      "source": [
        "# 5. Build the DataLoader"
      ]
    },
    {
      "cell_type": "code",
      "execution_count": null,
      "metadata": {
        "id": "9vDPtfZMYiO4"
      },
      "outputs": [],
      "source": [
        "train_smi_dataloader = DataLoader(train_smi_dataset, batch_size=BATCH_SIZE, shuffle=True)\n",
        "valid_smi_dataloader = DataLoader(valid_smi_dataset, batch_size=BATCH_SIZE, shuffle=False)\n",
        "tr_smi_N = len(train_smi_dataset)\n",
        "va_smi_N = len(valid_smi_dataset)\n",
        "\n",
        "print(tr_smi_N, va_smi_N)"
      ]
    },
    {
      "cell_type": "code",
      "execution_count": null,
      "metadata": {
        "id": "Vct25bJRuVvQ"
      },
      "outputs": [],
      "source": [
        "train_nmr_dataloader = DataLoader(train_nmr_dataset, batch_size=BATCH_SIZE, shuffle=True)\n",
        "valid_nmr_dataloader = DataLoader(valid_nmr_dataset, batch_size=BATCH_SIZE, shuffle=False)\n",
        "test_nmr_dataloader  = DataLoader(test_nmr_dataset,  batch_size=BATCH_SIZE, shuffle=False)\n",
        "tr_nmr_N = len(train_nmr_dataset)\n",
        "va_nmr_N = len(valid_nmr_dataset)\n",
        "te_nmr_N = len(test_nmr_dataset)\n",
        "\n",
        "print(tr_nmr_N, va_nmr_N, te_nmr_N)"
      ]
    },
    {
      "cell_type": "markdown",
      "metadata": {
        "id": "bt9gZtASavSN"
      },
      "source": [
        "# 6. Set Model and Optimizer"
      ]
    },
    {
      "cell_type": "markdown",
      "metadata": {
        "id": "Asg1ZWhQwxxf"
      },
      "source": [
        "## 6-1. Model 정의"
      ]
    },
    {
      "cell_type": "code",
      "execution_count": null,
      "metadata": {
        "id": "qcPdVyzTbJLQ"
      },
      "outputs": [],
      "source": [
        "# model1, 2, 3 정의. 위에서 정의한 변수 및 적절한 하이퍼 파라미터 포함.\n",
        "model1 = Model1(n_char = N_CHAR, n_hidden = N_HIDDEN, n_rnn_layer = N_RNN_LAYER).to(device)\n",
        "model2 = Model2(hid_dim_2 = HID_DIM_2, n_hidden = N_HIDDEN).to(device)\n",
        "model3 = Model3(n_char = N_CHAR, n_hidden = N_HIDDEN, hid_dim_3 = HID_DIM_3, n_rnn_layer = N_RNN_LAYER).to(device)"
      ]
    },
    {
      "cell_type": "markdown",
      "metadata": {
        "id": "5jieu_jJwyz2"
      },
      "source": [
        "## 6-2 (optional) Model 확인"
      ]
    },
    {
      "cell_type": "code",
      "execution_count": null,
      "metadata": {
        "id": "RXmFw9arwtd0"
      },
      "outputs": [],
      "source": [
        "print(\"model 1 information\")\n",
        "print(model1)\n",
        "# print(torch.summary(model1, input, device=\"cpu\"))     # input 에 모델 input값 넣어주어야 함.\n",
        "print(\"--------------------------------------------------------------------------------\")\n",
        "print(\"model 2 information\")\n",
        "print(model2)\n",
        "# print(torch.summary(model2, input, device=\"cpu\"))     # input 에 모델 input값 넣어주어야 함.\n",
        "print(\"--------------------------------------------------------------------------------\")\n",
        "print(\"model 3 information\")\n",
        "print(model3)\n",
        "# print(torch.summary(model1, input, device=\"cpu\"))     # input 에 모델 input값 넣어주어야 함."
      ]
    },
    {
      "cell_type": "markdown",
      "metadata": {
        "id": "fsbQYtCLw2Q5"
      },
      "source": [
        "## 6-3 Optimizer 정의"
      ]
    },
    {
      "cell_type": "code",
      "execution_count": null,
      "metadata": {
        "id": "7Ei8QflzbRlB"
      },
      "outputs": [],
      "source": [
        "# optimizer 정의. (GPT : 초기에는 Adam을 사용해보고, 성능이 나아지지 않는 경우에는 SGD와 같은 간단한 최적화 알고리즘을 시도하는 것이 일반적인 접근 방식)\n",
        "# 3가지 학습 과정 각각에 대해 optimizer가 정의 되어야 함.\n",
        "# 테스트 이후 overfitting이나 oscillation 발생시, weight decay나 scheduler 이용.\n",
        "optimizer_0 = optim.Adam(list(model1.parameters()) + list(model2.parameters()) + list(model3.parameters()),lr=LR_0)\n",
        "optimizer_1 = optim.Adam(list(model1.parameters()) + list(model3.parameters()),lr=LR_1)\n",
        "optimizer_2 = optim.Adam(list(model2.parameters()),lr=LR_2)"
      ]
    },
    {
      "cell_type": "markdown",
      "metadata": {
        "id": "s48Jsgg11WmW"
      },
      "source": [
        "## 6-4. loss function 정의"
      ]
    },
    {
      "cell_type": "code",
      "execution_count": null,
      "metadata": {
        "id": "F7yqpqWQ1YRc"
      },
      "outputs": [],
      "source": [
        "mse_loss = nn.MSELoss()\n",
        "cre_loss = nn.CrossEntropyLoss(reduction=\"mean\")"
      ]
    },
    {
      "cell_type": "markdown",
      "metadata": {
        "id": "0lXsnKtGbGOY"
      },
      "source": [
        "# 7. Train"
      ]
    },
    {
      "cell_type": "markdown",
      "metadata": {
        "id": "QdhmEY9_dCcH"
      },
      "source": [
        "학습 과정은 크게 3가지 단계로 나누어 하고자 함."
      ]
    },
    {
      "cell_type": "markdown",
      "metadata": {
        "id": "jnPr2VdrdyFe"
      },
      "source": [
        "## 7-0. NMR 데이터 : SMILES + NMR spectra + 분자식"
      ]
    },
    {
      "cell_type": "markdown",
      "metadata": {
        "id": "Ex5AmPQJ_DjM"
      },
      "source": [
        "![image.png](data:image/png;base64,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)"
      ]
    },
    {
      "cell_type": "code",
      "execution_count": null,
      "metadata": {
        "id": "QP0fvZGEbIMn"
      },
      "outputs": [],
      "source": [
        "def train_0(current_time,\n",
        "            device = device,\n",
        "            model1 = model1,\n",
        "            model2 = model2,\n",
        "            model3 = model3,\n",
        "            train_dataloader = train_nmr_dataloader,\n",
        "            valid_dataloader = valid_nmr_dataloader,\n",
        "            tr_N = tr_nmr_N,\n",
        "            va_N = va_nmr_N,\n",
        "            optimizer = optimizer_0,\n",
        "            loss_fn = cre_loss,\n",
        "            NUM_EPOCH = EPOCH_0,\n",
        "            BATCH_SIZE = BATCH_SIZE):\n",
        "    model1.to(device)\n",
        "    model2.to(device)\n",
        "    model3.to(device)\n",
        "\n",
        "    # 저장 위치 정의\n",
        "    save_dir = f\"./save/{current_time.strftime('%Y-%m-%d_%H-%M')}_train_0/\"\n",
        "    if not os.path.exists(save_dir):\n",
        "        os.mkdir(save_dir)\n",
        "\n",
        "    # train\n",
        "    train_loss_history, valid_loss_history = [], []\n",
        "    best_loss = 1e6     # 임의의 큰 값\n",
        "    best_model1_state_dict = model1.state_dict()\n",
        "    best_model2_state_dict = model2.state_dict()\n",
        "    best_model3_state_dict = model3.state_dict()\n",
        "    for i in range(1, NUM_EPOCH + 1):\n",
        "        # Train\n",
        "        model1.train()\n",
        "        model2.train()\n",
        "        model3.train()\n",
        "        train_batch_losses = []\n",
        "        for batch_idx, batch in tqdm(enumerate(train_dataloader), total=tr_N // BATCH_SIZE):\n",
        "            x_batch = batch[\"input\"].long().to(device)\n",
        "            l_batch = batch[\"length\"].long().to(device)\n",
        "            s_batch = batch[\"spectra\"].to(device)\n",
        "            m_batch = batch[\"mf\"].long().to(device)\n",
        "\n",
        "            z_1 = model1(x_batch, l_batch)\n",
        "            dec_final_1 = model3(z_1)\n",
        "            losses_1 = torch.stack([loss_fn(dec_final_1[i, :l_batch[i], :], x_batch[i, :l_batch[i]]) / l_batch[i] for i in range(len(x_batch))], dim=0)\n",
        "            loss_1 = losses_1.sum()\n",
        "\n",
        "            z_2 = model2(s_batch, m_batch)\n",
        "            dec_final_2 = model3(z_2)\n",
        "            losses_2 = torch.stack([loss_fn(dec_final_2[i, :l_batch[i], :], x_batch[i, :l_batch[i]]) / l_batch[i] for i in range(len(x_batch))], dim=0)\n",
        "            loss_2 = losses_2.sum()\n",
        "\n",
        "            loss = loss_1 + loss_2\n",
        "\n",
        "            train_batch_losses.append(loss.data.cpu().numpy())\n",
        "\n",
        "            optimizer.zero_grad()\n",
        "            loss.backward()\n",
        "            optimizer.step()\n",
        "\n",
        "        # Validation\n",
        "        model1.eval()\n",
        "        model2.eval()\n",
        "        model3.eval()\n",
        "        with torch.no_grad():\n",
        "            valid_batch_losses = []\n",
        "            for batch_idx, batch in tqdm(enumerate(valid_dataloader), total=va_N // BATCH_SIZE):\n",
        "                x_batch = batch[\"input\"].long().to(device)\n",
        "                l_batch = batch[\"length\"].long().to(device)\n",
        "                s_batch = batch[\"spectra\"].to(device)\n",
        "                m_batch = batch[\"mf\"].long().to(device)\n",
        "\n",
        "                z_1 = model1(x_batch, l_batch)\n",
        "                dec_final_1 = model3(z_1)\n",
        "                losses_1 = torch.stack([loss_fn(dec_final_1[i, :l_batch[i], :], x_batch[i, :l_batch[i]]) / l_batch[i] for i in range(len(x_batch))], dim=0)\n",
        "                loss_1 = losses_1.sum()\n",
        "\n",
        "                z_2 = model2(s_batch, m_batch)\n",
        "                dec_final_2 = model3(z_2)\n",
        "                losses_2 = torch.stack([loss_fn(dec_final_2[i, :l_batch[i], :], x_batch[i, :l_batch[i]]) / l_batch[i] for i in range(len(x_batch))], dim=0)\n",
        "                loss_2 = losses_2.sum()\n",
        "\n",
        "                loss = loss_1 + loss_2\n",
        "\n",
        "                valid_batch_losses.append(loss.data.cpu().numpy())\n",
        "\n",
        "        # 해당 Epoch의 결과를 저장\n",
        "        train_avg_loss = np.mean(np.array(train_batch_losses))\n",
        "        valid_avg_loss = np.mean(np.array(valid_batch_losses))\n",
        "        train_loss_history.append(train_avg_loss)\n",
        "        valid_loss_history.append(valid_avg_loss)\n",
        "\n",
        "        if valid_avg_loss < best_loss:\n",
        "            best_epoch = i\n",
        "            best_loss = valid_avg_loss\n",
        "            torch.save(model1.state_dict(), os.path.join(save_dir, f\"model1.pth\"))\n",
        "            torch.save(model2.state_dict(), os.path.join(save_dir, f\"model2.pth\"))\n",
        "            torch.save(model3.state_dict(), os.path.join(save_dir, f\"model3.pth\"))\n",
        "            best_model1_state_dict = model1.state_dict()\n",
        "            best_model2_state_dict = model2.state_dict()\n",
        "            best_model3_state_dict = model3.state_dict()\n",
        "\n",
        "        print(f\"\\t{i}th EPOCH --- TRAIN LOSS: {train_avg_loss:.4f} || VALIDATION LOSS: {valid_avg_loss:.4f} || BEST EPOCH: {best_epoch}\", flush=True)\n",
        "\n",
        "    tlh_dir = os.path.join(save_dir, f\"train_0_loss_history.txt\")\n",
        "    vlh_dir = os.path.join(save_dir, f\"valid_0_loss_history.txt\")\n",
        "    with open(tlh_dir, 'w') as file:\n",
        "        for item in train_loss_history:\n",
        "            file.write(str(item) + '\\n')\n",
        "    with open(vlh_dir, 'w') as file:\n",
        "        for item in valid_loss_history:\n",
        "            file.write(str(item) + '\\n')\n",
        "\n",
        "    return train_loss_history, valid_loss_history, best_model1_state_dict, best_model2_state_dict, best_model3_state_dict"
      ]
    },
    {
      "cell_type": "markdown",
      "metadata": {
        "id": "OmuMyLbOd-Cb"
      },
      "source": [
        "## 7-1. SMILES(+분자식) 데이터 학습"
      ]
    },
    {
      "cell_type": "markdown",
      "metadata": {
        "id": "UzWLN2ZuenIS"
      },
      "source": [
        "![image.png](data:image/png;base64,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)"
      ]
    },
    {
      "cell_type": "code",
      "execution_count": null,
      "metadata": {
        "id": "5rz2ds08eBCJ"
      },
      "outputs": [],
      "source": [
        "def train_1(current_time,\n",
        "            model1_state_dict = False,\n",
        "            model3_state_dict = False,\n",
        "            device = device,\n",
        "            model1 = model1,\n",
        "            model3 = model3,\n",
        "            train_dataloader = train_smi_dataloader,\n",
        "            valid_dataloader = valid_smi_dataloader,\n",
        "            tr_N = tr_smi_N,\n",
        "            va_N = va_smi_N,\n",
        "            optimizer = optimizer_1,\n",
        "            loss_fn = cre_loss,\n",
        "            NUM_EPOCH = EPOCH_1,\n",
        "            BATCH_SIZE = BATCH_SIZE):\n",
        "    # model1 : SMILES Encoder, model3 : SMILES Decoder\n",
        "    model1.to(device)\n",
        "    model3.to(device)\n",
        "\n",
        "    if model1_state_dict and model3_state_dict:\n",
        "        print(\"train_1에서 model1, 3의 파라미터를 받았습니다.\")\n",
        "        model1.load_state_dict(model1_state_dict)\n",
        "        model3.load_state_dict(model3_state_dict)\n",
        "\n",
        "    # 저장 위치 정의\n",
        "    save_dir = f\"./save/{current_time.strftime('%Y-%m-%d_%H-%M')}_train_1/\"\n",
        "    if not os.path.exists(save_dir):\n",
        "        os.mkdir(save_dir)\n",
        "\n",
        "    # train\n",
        "    train_loss_history, valid_loss_history = [], []\n",
        "    best_loss = 1e6     # 임의의 큰 값\n",
        "    best_model1_state_dict = model1.state_dict()\n",
        "    best_model3_state_dict = model3.state_dict()\n",
        "    for i in range(1, NUM_EPOCH + 1):\n",
        "        # Train\n",
        "        model1.train()\n",
        "        model3.train()\n",
        "        train_batch_losses = []\n",
        "        for batch_idx, batch in tqdm(enumerate(train_dataloader), total=tr_N // BATCH_SIZE):\n",
        "            x_batch = batch[\"input\"].long().to(device)\n",
        "            l_batch = batch[\"length\"].long().to(device)\n",
        "\n",
        "            z = model1(x_batch, l_batch)\n",
        "            dec_final = model3(z)\n",
        "\n",
        "            losses = torch.stack([loss_fn(dec_final[i, :l_batch[i], :], x_batch[i, :l_batch[i]]) / l_batch[i] for i in range(len(x_batch))], dim=0)\n",
        "            loss = losses.sum()\n",
        "\n",
        "            train_batch_losses.append(loss.data.cpu().numpy())\n",
        "\n",
        "            optimizer.zero_grad()\n",
        "            loss.backward()\n",
        "            optimizer.step()\n",
        "\n",
        "        # Validation\n",
        "        model1.eval()\n",
        "        model3.eval()\n",
        "        with torch.no_grad():\n",
        "            valid_batch_losses = []\n",
        "            for batch_idx, batch in tqdm(enumerate(valid_dataloader), total=va_N // BATCH_SIZE):\n",
        "                x_batch = batch[\"input\"].long().to(device)\n",
        "                l_batch = batch[\"length\"].long().to(device)\n",
        "\n",
        "                z = model1(x_batch, l_batch)\n",
        "                dec_final = model3(z)\n",
        "\n",
        "                losses = torch.stack([loss_fn(dec_final[i, :l_batch[i], :], x_batch[i, :l_batch[i]]) / l_batch[i] for i in range(len(x_batch))], dim=0)\n",
        "                loss = losses.sum()\n",
        "\n",
        "                valid_batch_losses.append(loss.data.cpu().numpy())\n",
        "\n",
        "        # 해당 Epoch의 결과를 저장\n",
        "        train_avg_loss = np.mean(np.array(train_batch_losses))\n",
        "        valid_avg_loss = np.mean(np.array(valid_batch_losses))\n",
        "        train_loss_history.append(train_avg_loss)\n",
        "        valid_loss_history.append(valid_avg_loss)\n",
        "\n",
        "        if valid_avg_loss < best_loss:\n",
        "            best_epoch = i\n",
        "            best_loss = valid_avg_loss\n",
        "            torch.save(model1.state_dict(), os.path.join(save_dir, f\"model1.pth\"))\n",
        "            torch.save(model3.state_dict(), os.path.join(save_dir, f\"model3.pth\"))\n",
        "            best_model1_state_dict = model1.state_dict()\n",
        "            best_model3_state_dict = model3.state_dict()\n",
        "\n",
        "        print(f\"\\t{i}th EPOCH --- TRAIN LOSS: {train_avg_loss:.4f} || VALIDATION LOSS: {valid_avg_loss:.4f} || BEST EPOCH: {best_epoch}\", flush=True)\n",
        "\n",
        "    tlh_dir = os.path.join(save_dir, f\"train_1_loss_history.txt\")\n",
        "    vlh_dir = os.path.join(save_dir, f\"valid_1_loss_history.txt\")\n",
        "    with open(tlh_dir, 'w') as file:\n",
        "        for item in train_loss_history:\n",
        "            file.write(str(item) + '\\n')\n",
        "    with open(vlh_dir, 'w') as file:\n",
        "        for item in valid_loss_history:\n",
        "            file.write(str(item) + '\\n')\n",
        "\n",
        "    return train_loss_history, valid_loss_history, best_model1_state_dict, best_model3_state_dict"
      ]
    },
    {
      "cell_type": "markdown",
      "metadata": {
        "id": "wqZpzMWQeJc0"
      },
      "source": [
        "## 7-2. NMR -> Latent vector z 학습"
      ]
    },
    {
      "cell_type": "markdown",
      "metadata": {
        "id": "JIk0tszu9xvF"
      },
      "source": [
        "![image.png](data:image/png;base64,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)"
      ]
    },
    {
      "cell_type": "code",
      "execution_count": null,
      "metadata": {
        "id": "-qie8vu4eOvq"
      },
      "outputs": [],
      "source": [
        "def train_2(current_time,\n",
        "            model1_state_dict,\n",
        "            model2_state_dict = False,\n",
        "            device = device,\n",
        "            model1 = model1,\n",
        "            model2 = model2,\n",
        "            train_dataloader = train_nmr_dataloader,\n",
        "            valid_dataloader = valid_nmr_dataloader,\n",
        "            tr_N = tr_nmr_N,\n",
        "            va_N = va_nmr_N,\n",
        "            optimizer = optimizer_2,\n",
        "            loss_fn = mse_loss,\n",
        "            NUM_EPOCH = EPOCH_2,\n",
        "            BATCH_SIZE = BATCH_SIZE):\n",
        "    # model1의 state dictionary는 입력 해 주어야 함.\n",
        "    # model1 : SMILES Encoder, model2 : NMR Encoder\n",
        "    model1.to(device)\n",
        "    model2.to(device)\n",
        "\n",
        "    if model2_state_dict:\n",
        "        print(\"model2의 파라미터를 받았습니다.\")\n",
        "        model2.load_state_dict(model2_state_dict)\n",
        "\n",
        "    # 저장 위치 정의\n",
        "    save_dir = f\"./save/{current_time.strftime('%Y-%m-%d_%H-%M')}_train_2/\"\n",
        "    if not os.path.exists(save_dir):\n",
        "        os.mkdir(save_dir)\n",
        "\n",
        "    # model1 을 evaluation mode로 설정하고, 기존에 학습된 파라미터를 불러옴.\n",
        "    model1.eval()\n",
        "    model1.load_state_dict(model1_state_dict)\n",
        "\n",
        "    # train\n",
        "    train_loss_history, valid_loss_history = [], []\n",
        "    best_loss = 1e6     # 임의의 큰 값\n",
        "    best_model2_state_dict = model2.state_dict()\n",
        "    for i in range(1, NUM_EPOCH + 1):\n",
        "        # Train\n",
        "        model2.train()\n",
        "        train_batch_losses = []\n",
        "        for batch_idx, batch in tqdm(enumerate(train_dataloader), total = tr_N // BATCH_SIZE):\n",
        "            x_batch = batch[\"input\"].long().to(device)\n",
        "            l_batch = batch[\"length\"].long().to(device)\n",
        "            s_batch = batch[\"spectra\"].to(device)\n",
        "            m_batch = batch[\"mf\"].long().to(device)\n",
        "\n",
        "            with torch.no_grad():\n",
        "                z_1 = model1(x_batch, l_batch)\n",
        "            z_2 = model2(s_batch, m_batch)\n",
        "\n",
        "            loss = loss_fn(z_2, z_1)\n",
        "\n",
        "            train_batch_losses.append(loss.data.cpu().numpy())\n",
        "\n",
        "            optimizer.zero_grad()\n",
        "            loss.backward()\n",
        "            optimizer.step()\n",
        "        # Validation\n",
        "        model2.eval()\n",
        "        with torch.no_grad():\n",
        "            valid_batch_losses = []\n",
        "            for batch_idx, batch in tqdm(enumerate(valid_dataloader), total=va_N // BATCH_SIZE):\n",
        "                x_batch = batch[\"input\"].long().to(device)\n",
        "                l_batch = batch[\"length\"].long().to(device)\n",
        "                s_batch = batch[\"spectra\"].long().to(device)\n",
        "                m_batch = batch[\"mf\"].long().to(device)\n",
        "\n",
        "                z_1 = model1(x_batch, l_batch)\n",
        "                z_2 = model2(s_batch, m_batch)\n",
        "\n",
        "                loss = loss_fn(z_2, z_1)\n",
        "\n",
        "                valid_batch_losses.append(loss.data.cpu().numpy())\n",
        "\n",
        "        # 해당 Epoch의 결과를 저장\n",
        "        train_avg_loss = np.mean(np.array(train_batch_losses))\n",
        "        valid_avg_loss = np.mean(np.array(valid_batch_losses))\n",
        "        train_loss_history.append(train_avg_loss)\n",
        "        valid_loss_history.append(valid_avg_loss)\n",
        "\n",
        "        if valid_avg_loss < best_loss:\n",
        "            best_epoch = i\n",
        "            best_loss = valid_avg_loss\n",
        "            torch.save(model2.state_dict(), os.path.join(save_dir, f\"model2.pth\"))\n",
        "            best_model2_state_dict = model2.state_dict()\n",
        "\n",
        "        print(f\"\\t{i}th EPOCH --- TRAIN LOSS: {train_avg_loss:.4f} || VALIDATION LOSS: {valid_avg_loss:.4f} || BEST EPOCH: {best_epoch}\", flush=True)\n",
        "\n",
        "    tlh_dir = os.path.join(save_dir, f\"train_2_loss_history.txt\")\n",
        "    vlh_dir = os.path.join(save_dir, f\"valid_2_loss_history.txt\")\n",
        "    with open(tlh_dir, 'w') as file:\n",
        "        for item in train_loss_history:\n",
        "            file.write(str(item) + '\\n')\n",
        "    with open(vlh_dir, 'w') as file:\n",
        "        for item in valid_loss_history:\n",
        "            file.write(str(item) + '\\n')\n",
        "\n",
        "    return train_loss_history, valid_loss_history, best_model2_state_dict"
      ]
    },
    {
      "cell_type": "markdown",
      "metadata": {
        "id": "rUFvIgQAerYy"
      },
      "source": [
        "# 8. 모델 학습 및 테스트"
      ]
    },
    {
      "cell_type": "markdown",
      "metadata": {
        "id": "W9eVRSd1iTYK"
      },
      "source": [
        "## 8-0. smi decoder 정의"
      ]
    },
    {
      "cell_type": "code",
      "execution_count": null,
      "metadata": {
        "id": "MwU97WJ1nqhk"
      },
      "outputs": [],
      "source": [
        "i_to_c = {v:k for k, v in c_to_i.items()}"
      ]
    },
    {
      "cell_type": "code",
      "execution_count": null,
      "metadata": {
        "id": "PsgRLRAZgGKF"
      },
      "outputs": [],
      "source": [
        "def decode_smi(x):\n",
        "    \"\"\"\n",
        "    인코딩된 x는 길이 L의 정수(long) 배열.\n",
        "    이를 인코딩때 사용한 배열의 역으로 다시 문자로 바꾸어 주어야 함.\n",
        "    \"\"\"\n",
        "    while len(x) > 0 and x[-1] == 0:\n",
        "        x = x[:-1]\n",
        "    chlist = [i_to_c[int(i)] for i in x]\n",
        "    smi = ''.join(chlist)\n",
        "    return smi"
      ]
    },
    {
      "cell_type": "markdown",
      "metadata": {
        "id": "BdQW8CM1AFl8"
      },
      "source": [
        "## 8-1. Test 코드 정의"
      ]
    },
    {
      "cell_type": "markdown",
      "metadata": {
        "id": "laMOcGMZAJAO"
      },
      "source": [
        "![image.png](data:image/png;base64,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)"
      ]
    },
    {
      "cell_type": "code",
      "execution_count": null,
      "metadata": {
        "id": "Diyx0908euQC"
      },
      "outputs": [],
      "source": [
        "def test_model(model2_state_dict,\n",
        "               model3_state_dict,\n",
        "               device = device,\n",
        "               model2 = model2,\n",
        "               model3 = model3,\n",
        "               test_dataloader = test_nmr_dataloader,\n",
        "               te_N = te_nmr_N,\n",
        "               loss_fn = cre_loss,\n",
        "               BATCH_SIZE = BATCH_SIZE):\n",
        "    model2.to(device)\n",
        "    model3.to(device)\n",
        "    model2.load_state_dict(model2_state_dict)\n",
        "    model3.load_state_dict(model3_state_dict)\n",
        "    model2.eval()\n",
        "    model3.eval()\n",
        "\n",
        "    test_loss_list = []\n",
        "    test_smi = []\n",
        "    test_nmr = []\n",
        "    test_mf = []\n",
        "    test_out_smi = []\n",
        "\n",
        "    with torch.no_grad():\n",
        "\n",
        "        for batch_idx, batch in tqdm(enumerate(test_dataloader), total=te_N // BATCH_SIZE):\n",
        "            x_batch = batch[\"input\"].long().to(device)\n",
        "            l_batch = batch[\"length\"].long().to(device)\n",
        "            s_batch = batch[\"spectra\"].to(device)\n",
        "            m_batch = batch[\"mf\"].long().to(device)\n",
        "\n",
        "            z = model2(s_batch, m_batch)\n",
        "            dec_final = model3(z)\n",
        "\n",
        "            losses = torch.stack([loss_fn(dec_final[i, :l_batch[i], :], x_batch[i, :l_batch[i]]) / l_batch[i] for i in range(len(x_batch))], dim=0)\n",
        "            loss = losses.sum()\n",
        "            test_loss_list.append(loss.data.cpu())\n",
        "\n",
        "            x_batch = x_batch.cpu().tolist()\n",
        "            s_batch = s_batch.cpu()\n",
        "            m_batch = m_batch.cpu()\n",
        "            dec_final = dec_final.cpu()\n",
        "\n",
        "            for i in range(len(x_batch)):\n",
        "                smi = decode_smi(x_batch[i])\n",
        "                test_smi.append(smi)\n",
        "                test_nmr.append(s_batch[i])\n",
        "                test_mf.append(m_batch[i])\n",
        "\n",
        "                out_smi_list = []\n",
        "                lntensor = dec_final[i]\n",
        "                for j in range(len(lntensor)):\n",
        "                    i_prob = lntensor[j]\n",
        "                    max_i = torch.argmax(i_prob)\n",
        "                    out_smi_list.append(max_i)\n",
        "                out_smi = decode_smi(out_smi_list)\n",
        "                test_out_smi.append(out_smi)\n",
        "\n",
        "    avg_loss = float(sum(test_loss_list) / len(test_loss_list))\n",
        "\n",
        "    return avg_loss, test_out_smi, test_smi, test_nmr, test_mf"
      ]
    },
    {
      "cell_type": "markdown",
      "metadata": {
        "id": "zjQ3-WIJCW3J"
      },
      "source": [
        "## 8-2. 모델 학습"
      ]
    },
    {
      "cell_type": "code",
      "execution_count": null,
      "metadata": {
        "id": "0ls2d_JoCoNo"
      },
      "outputs": [],
      "source": [
        "\"\"\"\n",
        "# train 1, 2\n",
        "\n",
        "current_time = datetime.now()\n",
        "\n",
        "train_1_loss_history, valid_1_loss_history, best_model1_state_dict, best_model3_state_dict = train_1(current_time=current_time)\n",
        "train_2_loss_history, valid_2_loss_history, best_model2_state_dict = train_2(current_time=current_time, model1_state_dict=best_model1_state_dict)\n",
        "\"\"\""
      ]
    },
    {
      "cell_type": "code",
      "execution_count": null,
      "metadata": {
        "id": "LqVx4JunPm53"
      },
      "outputs": [],
      "source": [
        "# train 0, 1, 2\n",
        "\n",
        "current_time = datetime.now()\n",
        "\n",
        "train_0_loss_history, valid_0_loss_history, model1_state_dict, model2_state_dict, model3_state_dict = train_0(current_time = current_time)\n",
        "train_1_loss_history, valid_1_loss_history, best_model1_state_dict, best_model3_state_dict = train_1(current_time=current_time, model1_state_dict = model1_state_dict, model3_state_dict = model3_state_dict)\n",
        "train_2_loss_history, valid_2_loss_history, best_model2_state_dict = train_2(current_time=current_time, model1_state_dict=best_model1_state_dict, model2_state_dict = model2_state_dict)"
      ]
    },
    {
      "cell_type": "markdown",
      "metadata": {
        "id": "ixBVoZd0Dzy1"
      },
      "source": [
        "### 8-2-1. 저장된 모델 파라미터 불러오기"
      ]
    },
    {
      "cell_type": "code",
      "execution_count": null,
      "metadata": {
        "id": "sMkeZYV4D4Eo"
      },
      "outputs": [],
      "source": [
        "\"\"\"\n",
        "best_model1_state_dict = torch.load('./save/folder name/model1.pth')\n",
        "best_model2_state_dict = torch.load('./save/folder name/model1.pth')\n",
        "best_model3_state_dict = torch.load('./save/folder name/model3.pth')\n",
        "\"\"\""
      ]
    },
    {
      "cell_type": "markdown",
      "metadata": {
        "id": "yBPmyKf7DWza"
      },
      "source": [
        "## 8-3 학습 과정 loss plot"
      ]
    },
    {
      "cell_type": "code",
      "execution_count": null,
      "metadata": {
        "id": "ns-Fgf_sOpla"
      },
      "outputs": [],
      "source": [
        "# Train 0\n",
        "print(min(train_0_loss_history), min(valid_0_loss_history), valid_0_loss_history.index(min(valid_0_loss_history))+1)\n",
        "\n",
        "x_axis = np.arange(EPOCH_0)\n",
        "fig, ax = plt.subplots()\n",
        "ax.plot(x_axis, train_0_loss_history, label='train loss')\n",
        "ax.plot(x_axis, valid_0_loss_history, label='validation loss')\n",
        "ax.set_xlabel('Num epoch')\n",
        "ax.set_ylabel('Loss')\n",
        "ax.set_title('train 0 Loss History')\n",
        "ax.legend()\n",
        "fig.show()"
      ]
    },
    {
      "cell_type": "code",
      "execution_count": null,
      "metadata": {
        "id": "sG5H-cQ3DZue"
      },
      "outputs": [],
      "source": [
        "# Train 1\n",
        "print(min(train_1_loss_history), min(valid_1_loss_history), valid_1_loss_history.index(min(valid_1_loss_history))+1)\n",
        "\n",
        "x_axis = np.arange(EPOCH_1)\n",
        "fig, ax = plt.subplots()\n",
        "ax.plot(x_axis, train_1_loss_history, label='train loss')\n",
        "ax.plot(x_axis, valid_1_loss_history, label='validation loss')\n",
        "ax.set_xlabel('Num epoch')\n",
        "ax.set_ylabel('Loss')\n",
        "ax.set_title('train 1 Loss History')\n",
        "ax.legend()\n",
        "fig.show()"
      ]
    },
    {
      "cell_type": "code",
      "execution_count": null,
      "metadata": {
        "id": "Gz2kHplTDqJV"
      },
      "outputs": [],
      "source": [
        "# Train 2\n",
        "print(min(train_2_loss_history), min(valid_2_loss_history), valid_2_loss_history.index(min(valid_2_loss_history))+1)\n",
        "\n",
        "x_axis = np.arange(EPOCH_2)\n",
        "fig, ax = plt.subplots()\n",
        "ax.plot(x_axis, train_2_loss_history, label='train loss')\n",
        "ax.plot(x_axis, valid_2_loss_history, label='validation loss')\n",
        "ax.set_xlabel('Num epoch')\n",
        "ax.set_ylabel('Loss')\n",
        "ax.set_title('train 2 Loss History')\n",
        "ax.legend()\n",
        "fig.show()"
      ]
    },
    {
      "cell_type": "markdown",
      "metadata": {
        "id": "MHGSrWYpSB7G"
      },
      "source": [
        "## 8-4. NMR Test dataset으로 결과 확인"
      ]
    },
    {
      "cell_type": "code",
      "execution_count": null,
      "metadata": {
        "id": "d-x0cG-bSGoc"
      },
      "outputs": [],
      "source": [
        "final_test_loss, test_out_smi, test_smi, test_nmr, test_mf = test_model(model2_state_dict = best_model2_state_dict, model3_state_dict = best_model3_state_dict)\n",
        "print(\"final test loss :\", final_test_loss)"
      ]
    },
    {
      "cell_type": "markdown",
      "metadata": {
        "id": "xh4ob6aHSwOj"
      },
      "source": [
        "## 8-5 생성된 분자 세트 확인"
      ]
    },
    {
      "cell_type": "markdown",
      "metadata": {
        "id": "fZ5I4AU7Wceh"
      },
      "source": [
        "### 8-5-1. valid molecule set"
      ]
    },
    {
      "cell_type": "code",
      "execution_count": null,
      "metadata": {
        "id": "kHJ21ndAS6KN"
      },
      "outputs": [],
      "source": [
        "valid_smi_list = []\n",
        "for i, smi in enumerate(test_out_smi):\n",
        "    if len(smi) == 0:\n",
        "        continue\n",
        "    elif 'X' in smi:\n",
        "        continue\n",
        "    try:\n",
        "        mol = Chem.MolFromSmiles(smi)\n",
        "        assert mol is not None\n",
        "    except:\n",
        "        continue\n",
        "    valid_smi_list.append([i, smi])"
      ]
    },
    {
      "cell_type": "code",
      "execution_count": null,
      "metadata": {
        "id": "UqEOfm9KYQ3K"
      },
      "outputs": [],
      "source": [
        "print(\"valid SMILES :\",len(valid_smi_list))\n",
        "print(\"valid SMILES ratio in test nmr dataset :\", len(valid_smi_list) / len(test_out_smi))"
      ]
    },
    {
      "cell_type": "markdown",
      "metadata": {
        "id": "ifWhNa7ZeO4K"
      },
      "source": [
        "### 8-5-2. valid한 분자를 정답 분자와 비교"
      ]
    },
    {
      "cell_type": "code",
      "execution_count": null,
      "metadata": {
        "id": "dO7fkkDpYRWa"
      },
      "outputs": [],
      "source": [
        "print(\"결과로 나온 valid한 물질 / 정답 물질\")\n",
        "tc_list = []\n",
        "for i in range(len(valid_smi_list)):\n",
        "    print(\"생성된 SMILES :\", valid_smi_list[i][1])\n",
        "    mol1 = Chem.MolFromSmiles(valid_smi_list[i][1])\n",
        "    # img1 = Draw.MolToImage(mol1)\n",
        "    # display(img1)\n",
        "    print(\"정답 SMILES :\", test_smi[valid_smi_list[i][0]])\n",
        "    mol2 = Chem.MolFromSmiles(test_smi[valid_smi_list[i][0]])\n",
        "    # img2 = Draw.MolToImage(mol2)\n",
        "    # display(img2)\n",
        "\n",
        "    fp1 = AllChem.GetMorganFingerprint(mol1, 2)\n",
        "    fp2 = AllChem.GetMorganFingerprint(mol2, 2)\n",
        "    tanimoto_coefficient = DataStructs.TanimotoSimilarity(fp1, fp2)\n",
        "    tc_list.append(tanimoto_coefficient)\n",
        "    print(\"tanimoto coefficient :\", tanimoto_coefficient)\n",
        "    print(\"---------------------------------------------------------\")\n",
        "print(\"tanimoto coefficient 평균 :\", sum(tc_list) / len(tc_list))\n",
        "print(\"tanimoto coefficient 최솟값 :\", min(tc_list))\n",
        "print(\"tanimoto coefficient 최댓값 :\", max(tc_list))"
      ]
    }
  ],
  "metadata": {
    "colab": {
      "provenance": [],
      "include_colab_link": true
    },
    "kernelspec": {
      "display_name": "Python 3 (ipykernel)",
      "language": "python",
      "name": "python3"
    },
    "language_info": {
      "codemirror_mode": {
        "name": "ipython",
        "version": 3
      },
      "file_extension": ".py",
      "mimetype": "text/x-python",
      "name": "python",
      "nbconvert_exporter": "python",
      "pygments_lexer": "ipython3",
      "version": "3.11.2"
    }
  },
  "nbformat": 4,
  "nbformat_minor": 0
}